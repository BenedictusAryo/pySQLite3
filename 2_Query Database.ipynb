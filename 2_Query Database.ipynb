{
 "cells": [
  {
   "cell_type": "markdown",
   "metadata": {},
   "source": [
    "# 2. Query Database SQLite\n",
    "\n",
    "We will using `chinook sample database` from **sqlitetutorial.net**\n",
    "\n",
    "Database Reference: [https://www.sqlitetutorial.net/sqlite-sample-database/](https://www.sqlitetutorial.net/sqlite-sample-database/)\n",
    "\n",
    "There are 11 tables in the chinook sample database.\n",
    "\n",
    "* **`employees`** table stores employees data such as employee id, last name, first name, etc. It also has a field named **`ReportsTo`** to specify who reports to whom.\n",
    "* **`customers`** table stores customers data.\n",
    "* **`invoices`** & **`invoice_items`** tables: these two tables store invoice data. <br>The **`invoices`** table stores invoice header data and the **`invoice_items`** table stores the invoice line items data.\n",
    "* **`artists`** table stores artists data. It is a simple table that contains only the artist id and name.\n",
    "* **`albums`** table stores data about a list of tracks. Each album belongs to one artist. However, one artist may have multiple albums.\n",
    "* **`media_types`** table stores media types such as MPEG audio and AAC audio files.\n",
    "* **`genres`** table stores music types such as rock, jazz, metal, etc.\n",
    "* **`tracks`** table stores the data of songs. Each track belongs to one album.\n",
    "* **`playlists`** & **`playlist_track`** tables: playlists table store data about playlists. Each playlist contains a list of tracks. Each track may belong to multiple playlists. The relationship between the **`playlists`** table and **`tracks`** table is many-to-many. The **`playlist_track`** table is used to reflect this relationship.\n",
    "\n",
    "<br>\n",
    "\n",
    "<img src=\"database/chinook_schema.png\" width=\"800\">"
   ]
  },
  {
   "cell_type": "code",
   "execution_count": 1,
   "metadata": {},
   "outputs": [],
   "source": [
    "# Import SQLite, Create connection and create CursorObject\n",
    "import sqlite3\n",
    "connection = sqlite3.connect('database/chinook.db')\n",
    "cursorObj = connection.cursor()"
   ]
  },
  {
   "cell_type": "markdown",
   "metadata": {},
   "source": [
    "### Show All Tables from chinook Database"
   ]
  },
  {
   "cell_type": "code",
   "execution_count": 2,
   "metadata": {},
   "outputs": [
    {
     "data": {
      "text/plain": [
       "[('albums',),\n",
       " ('artists',),\n",
       " ('customers',),\n",
       " ('employees',),\n",
       " ('genres',),\n",
       " ('invoices',),\n",
       " ('invoice_items',),\n",
       " ('media_types',),\n",
       " ('playlists',),\n",
       " ('playlist_track',),\n",
       " ('tracks',)]"
      ]
     },
     "execution_count": 2,
     "metadata": {},
     "output_type": "execute_result"
    }
   ],
   "source": [
    "cursorObj.execute(\"\"\"SELECT name FROM sqlite_master \n",
    "                     WHERE type='table' AND name NOT LIKE 'sqlite_%';\"\"\").fetchall()"
   ]
  },
  {
   "cell_type": "code",
   "execution_count": null,
   "metadata": {},
   "outputs": [],
   "source": []
  }
 ],
 "metadata": {
  "kernelspec": {
   "display_name": "Python 3",
   "language": "python",
   "name": "python3"
  },
  "language_info": {
   "codemirror_mode": {
    "name": "ipython",
    "version": 3
   },
   "file_extension": ".py",
   "mimetype": "text/x-python",
   "name": "python",
   "nbconvert_exporter": "python",
   "pygments_lexer": "ipython3",
   "version": "3.7.4"
  }
 },
 "nbformat": 4,
 "nbformat_minor": 4
}
