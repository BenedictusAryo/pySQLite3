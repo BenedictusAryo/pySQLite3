{
 "cells": [
  {
   "cell_type": "markdown",
   "metadata": {},
   "source": [
    "# 2. Query Database SQLite\n",
    "\n",
    "We will using `chinook sample database` from **sqlitetutorial.net**\n",
    "\n",
    "Database Source & Reference: [https://www.sqlitetutorial.net/sqlite-sample-database/](https://www.sqlitetutorial.net/sqlite-sample-database/)\n",
    "\n",
    "There are 11 tables in the chinook sample database.\n",
    "\n",
    "* **`employees`** table stores employees data such as employee id, last name, first name, etc. It also has a field named **`ReportsTo`** to specify who reports to whom.\n",
    "* **`customers`** table stores customers data.\n",
    "* **`invoices`** & **`invoice_items`** tables: these two tables store invoice data. <br>The **`invoices`** table stores invoice header data and the **`invoice_items`** table stores the invoice line items data.\n",
    "* **`artists`** table stores artists data. It is a simple table that contains only the artist id and name.\n",
    "* **`albums`** table stores data about a list of tracks. Each album belongs to one artist. However, one artist may have multiple albums.\n",
    "* **`media_types`** table stores media types such as MPEG audio and AAC audio files.\n",
    "* **`genres`** table stores music types such as rock, jazz, metal, etc.\n",
    "* **`tracks`** table stores the data of songs. Each track belongs to one album.\n",
    "* **`playlists`** & **`playlist_track`** tables: playlists table store data about playlists. Each playlist contains a list of tracks. Each track may belong to multiple playlists. The relationship between the **`playlists`** table and **`tracks`** table is many-to-many. The **`playlist_track`** table is used to reflect this relationship.\n",
    "\n",
    "<br>\n",
    "\n",
    "<img src=\"database/chinook_schema.png\" width=\"800\">"
   ]
  },
  {
   "cell_type": "code",
   "execution_count": 1,
   "metadata": {},
   "outputs": [],
   "source": [
    "# Import SQLite, Create connection and create CursorObject\n",
    "import sqlite3\n",
    "connection = sqlite3.connect('database/chinook.db')\n",
    "cursorObj = connection.cursor()"
   ]
  },
  {
   "cell_type": "markdown",
   "metadata": {},
   "source": [
    "### Show All Tables from chinook Database"
   ]
  },
  {
   "cell_type": "code",
   "execution_count": 2,
   "metadata": {},
   "outputs": [
    {
     "data": {
      "text/plain": [
       "[('albums',),\n",
       " ('artists',),\n",
       " ('customers',),\n",
       " ('employees',),\n",
       " ('genres',),\n",
       " ('invoices',),\n",
       " ('invoice_items',),\n",
       " ('media_types',),\n",
       " ('playlists',),\n",
       " ('playlist_track',),\n",
       " ('tracks',)]"
      ]
     },
     "execution_count": 2,
     "metadata": {},
     "output_type": "execute_result"
    }
   ],
   "source": [
    "cursorObj.execute(\"\"\"SELECT name FROM sqlite_master \n",
    "                     WHERE type='table' AND name NOT LIKE 'sqlite_%'\"\"\").fetchall()"
   ]
  },
  {
   "cell_type": "markdown",
   "metadata": {},
   "source": [
    "### Show Columns Metadata from table"
   ]
  },
  {
   "cell_type": "code",
   "execution_count": 3,
   "metadata": {},
   "outputs": [
    {
     "data": {
      "text/plain": [
       "[(0, 'TrackId', 'INTEGER', 1, None, 1),\n",
       " (1, 'Name', 'NVARCHAR(200)', 1, None, 0),\n",
       " (2, 'AlbumId', 'INTEGER', 0, None, 0),\n",
       " (3, 'MediaTypeId', 'INTEGER', 1, None, 0),\n",
       " (4, 'GenreId', 'INTEGER', 0, None, 0),\n",
       " (5, 'Composer', 'NVARCHAR(220)', 0, None, 0),\n",
       " (6, 'Milliseconds', 'INTEGER', 1, None, 0),\n",
       " (7, 'Bytes', 'INTEGER', 0, None, 0),\n",
       " (8, 'UnitPrice', 'NUMERIC(10,2)', 1, None, 0)]"
      ]
     },
     "execution_count": 3,
     "metadata": {},
     "output_type": "execute_result"
    }
   ],
   "source": [
    "# Show Columns Name from table `tracks`\n",
    "cursorObj.execute(\"PRAGMA table_info(tracks)\").fetchall()"
   ]
  },
  {
   "cell_type": "markdown",
   "metadata": {},
   "source": [
    "<br>\n",
    "\n",
    "## Query Database\n",
    "\n",
    "### Execute Query using `cursorObject`"
   ]
  },
  {
   "cell_type": "code",
   "execution_count": 4,
   "metadata": {},
   "outputs": [
    {
     "data": {
      "text/plain": [
       "[(1, 'AC/DC'),\n",
       " (2, 'Accept'),\n",
       " (3, 'Aerosmith'),\n",
       " (4, 'Alanis Morissette'),\n",
       " (5, 'Alice In Chains')]"
      ]
     },
     "execution_count": 4,
     "metadata": {},
     "output_type": "execute_result"
    }
   ],
   "source": [
    "cursorObj.execute(\"SELECT * FROM artists LIMIT 5\")\n",
    "cursorObj.fetchall()"
   ]
  },
  {
   "cell_type": "markdown",
   "metadata": {},
   "source": [
    "### Query using `cursorObject` OneLine using `fetchall()`"
   ]
  },
  {
   "cell_type": "code",
   "execution_count": 5,
   "metadata": {},
   "outputs": [
    {
     "data": {
      "text/plain": [
       "[(1, 'For Those About To Rock We Salute You', 1),\n",
       " (2, 'Balls to the Wall', 2),\n",
       " (3, 'Restless and Wild', 2),\n",
       " (4, 'Let There Be Rock', 1),\n",
       " (5, 'Big Ones', 3)]"
      ]
     },
     "execution_count": 5,
     "metadata": {},
     "output_type": "execute_result"
    }
   ],
   "source": [
    "cursorObj.execute(\"SELECT * FROM albums LIMIT 5\").fetchall()"
   ]
  },
  {
   "cell_type": "markdown",
   "metadata": {},
   "source": [
    "### Create Query Function"
   ]
  },
  {
   "cell_type": "code",
   "execution_count": 6,
   "metadata": {},
   "outputs": [],
   "source": [
    "def query_fetch(query, cursorObject=cursorObj):\n",
    "    \"\"\"\n",
    "    Execute Query and fetch all return data\n",
    "    ----------------------------------------\n",
    "    Params: \n",
    "    query: SQL Query Statement\n",
    "    cursorObject: Default cursorObj\"\"\"\n",
    "    cursorObject.execute(query)\n",
    "    return cursorObject.fetchall()"
   ]
  },
  {
   "cell_type": "code",
   "execution_count": 7,
   "metadata": {},
   "outputs": [
    {
     "data": {
      "text/plain": [
       "[('Queen', 'Greatest Hits II'),\n",
       " ('Queen', 'Greatest Hits I'),\n",
       " ('Queen', 'News Of The World')]"
      ]
     },
     "execution_count": 7,
     "metadata": {},
     "output_type": "execute_result"
    }
   ],
   "source": [
    "query = \"\"\"SELECT artists.Name , albums.Title\n",
    "           FROM artists\n",
    "           INNER JOIN albums\n",
    "           ON albums.ArtistId=artists.ArtistId\n",
    "           WHERE artists.Name LIKE 'Queen'\"\"\"\n",
    "\n",
    "query_fetch(query)"
   ]
  },
  {
   "cell_type": "markdown",
   "metadata": {},
   "source": [
    "<br>\n",
    "\n",
    "### Query With Columns Name"
   ]
  },
  {
   "cell_type": "code",
   "execution_count": 8,
   "metadata": {},
   "outputs": [],
   "source": [
    "def usecols_query(query, cursorObject=cursorObj):\n",
    "    \"\"\"\n",
    "    Execute Query and fetch all and columns as return data\n",
    "    -----------------------------------------------------\n",
    "    Params: \n",
    "    query: SQL Query Statement\n",
    "    cursorObject: Default cursorObj\"\"\"\n",
    "    cursorObject.execute(query)\n",
    "    col_list = [tuple_col[0] for tuple_col in cursorObject.description]\n",
    "    return col_list, cursorObject.fetchall()"
   ]
  },
  {
   "cell_type": "code",
   "execution_count": 9,
   "metadata": {},
   "outputs": [
    {
     "data": {
      "text/plain": [
       "(['Artist Name', 'Total Albums'],\n",
       " [('Iron Maiden', 21),\n",
       "  ('Led Zeppelin', 14),\n",
       "  ('Deep Purple', 11),\n",
       "  ('U2', 10),\n",
       "  ('Metallica', 10),\n",
       "  ('Ozzy Osbourne', 6),\n",
       "  ('Pearl Jam', 5)])"
      ]
     },
     "execution_count": 9,
     "metadata": {},
     "output_type": "execute_result"
    }
   ],
   "source": [
    "query = \"\"\"SELECT artists.Name AS 'Artist Name', COUNT(albums.Title) AS 'Total Albums'\n",
    "           FROM artists\n",
    "           INNER JOIN albums\n",
    "           ON albums.ArtistId=artists.ArtistId\n",
    "           GROUP BY artists.Name\n",
    "           ORDER BY `Total Albums` DESC\n",
    "           LIMIT 7\n",
    "           \"\"\"\n",
    "\n",
    "usecols_query(query)"
   ]
  },
  {
   "cell_type": "markdown",
   "metadata": {},
   "source": [
    "#### Unpacking Function"
   ]
  },
  {
   "cell_type": "code",
   "execution_count": 10,
   "metadata": {},
   "outputs": [
    {
     "name": "stdout",
     "output_type": "stream",
     "text": [
      "Columns Name: \n",
      " ['Artist Name', 'Total Albums']\n",
      "\n",
      "Data:\n",
      "('Iron Maiden', 21)\n",
      "('Led Zeppelin', 14)\n",
      "('Deep Purple', 11)\n",
      "('U2', 10)\n",
      "('Metallica', 10)\n",
      "('Ozzy Osbourne', 6)\n",
      "('Pearl Jam', 5)\n"
     ]
    }
   ],
   "source": [
    "cols, data = usecols_query(query)\n",
    "print(\"Columns Name: \\n\", cols)\n",
    "print(\"\\nData:\")\n",
    "for row in data:\n",
    "    print(row)"
   ]
  },
  {
   "cell_type": "markdown",
   "metadata": {},
   "source": [
    "<br>\n",
    "\n",
    "### Returns Pandas DataFrame"
   ]
  },
  {
   "cell_type": "code",
   "execution_count": 11,
   "metadata": {},
   "outputs": [],
   "source": [
    "# Import pandas\n",
    "import pandas as pd\n",
    "\n",
    "def dataframe_query(query, cursorObject=cursorObj, pandas=pd):\n",
    "    \"\"\"\n",
    "    Execute Query and fetch all data and return dataframe\n",
    "    -----------------------------------------------------\n",
    "    Params: \n",
    "    query: SQL Query Statement\n",
    "    cursorObject: Default cursorObj\n",
    "    pandas: Imported Pandas default=pd\"\"\"\n",
    "    cursorObject.execute(query)\n",
    "    col_list = [tuple_col[0] for tuple_col in cursorObject.description]\n",
    "    return pd.DataFrame(cursorObject.fetchall(), columns=col_list)"
   ]
  },
  {
   "cell_type": "code",
   "execution_count": 12,
   "metadata": {},
   "outputs": [
    {
     "data": {
      "text/html": [
       "<div>\n",
       "<style scoped>\n",
       "    .dataframe tbody tr th:only-of-type {\n",
       "        vertical-align: middle;\n",
       "    }\n",
       "\n",
       "    .dataframe tbody tr th {\n",
       "        vertical-align: top;\n",
       "    }\n",
       "\n",
       "    .dataframe thead th {\n",
       "        text-align: right;\n",
       "    }\n",
       "</style>\n",
       "<table border=\"1\" class=\"dataframe\">\n",
       "  <thead>\n",
       "    <tr style=\"text-align: right;\">\n",
       "      <th></th>\n",
       "      <th>Genre Name</th>\n",
       "      <th>Album Title</th>\n",
       "      <th>Track Name</th>\n",
       "    </tr>\n",
       "  </thead>\n",
       "  <tbody>\n",
       "    <tr>\n",
       "      <th>0</th>\n",
       "      <td>Rock</td>\n",
       "      <td>For Those About To Rock We Salute You</td>\n",
       "      <td>For Those About To Rock (We Salute You)</td>\n",
       "    </tr>\n",
       "    <tr>\n",
       "      <th>1</th>\n",
       "      <td>Rock</td>\n",
       "      <td>Balls to the Wall</td>\n",
       "      <td>Balls to the Wall</td>\n",
       "    </tr>\n",
       "    <tr>\n",
       "      <th>2</th>\n",
       "      <td>Rock</td>\n",
       "      <td>Restless and Wild</td>\n",
       "      <td>Fast As a Shark</td>\n",
       "    </tr>\n",
       "    <tr>\n",
       "      <th>3</th>\n",
       "      <td>Rock</td>\n",
       "      <td>Restless and Wild</td>\n",
       "      <td>Restless and Wild</td>\n",
       "    </tr>\n",
       "    <tr>\n",
       "      <th>4</th>\n",
       "      <td>Rock</td>\n",
       "      <td>Restless and Wild</td>\n",
       "      <td>Princess of the Dawn</td>\n",
       "    </tr>\n",
       "    <tr>\n",
       "      <th>...</th>\n",
       "      <td>...</td>\n",
       "      <td>...</td>\n",
       "      <td>...</td>\n",
       "    </tr>\n",
       "    <tr>\n",
       "      <th>3498</th>\n",
       "      <td>Classical</td>\n",
       "      <td>Respighi:Pines of Rome</td>\n",
       "      <td>Pini Di Roma (Pinien Von Rom) \\ I Pini Della V...</td>\n",
       "    </tr>\n",
       "    <tr>\n",
       "      <th>3499</th>\n",
       "      <td>Classical</td>\n",
       "      <td>Schubert: The Late String Quartets &amp; String Qu...</td>\n",
       "      <td>String Quartet No. 12 in C Minor, D. 703 \"Quar...</td>\n",
       "    </tr>\n",
       "    <tr>\n",
       "      <th>3500</th>\n",
       "      <td>Classical</td>\n",
       "      <td>Monteverdi: L'Orfeo</td>\n",
       "      <td>L'orfeo, Act 3, Sinfonia (Orchestra)</td>\n",
       "    </tr>\n",
       "    <tr>\n",
       "      <th>3501</th>\n",
       "      <td>Classical</td>\n",
       "      <td>Mozart: Chamber Music</td>\n",
       "      <td>Quintet for Horn, Violin, 2 Violas, and Cello ...</td>\n",
       "    </tr>\n",
       "    <tr>\n",
       "      <th>3502</th>\n",
       "      <td>Opera</td>\n",
       "      <td>Mozart Gala: Famous Arias</td>\n",
       "      <td>Die Zauberflöte, K.620: \"Der Hölle Rache Kocht...</td>\n",
       "    </tr>\n",
       "  </tbody>\n",
       "</table>\n",
       "<p>3503 rows × 3 columns</p>\n",
       "</div>"
      ],
      "text/plain": [
       "     Genre Name                                        Album Title  \\\n",
       "0          Rock              For Those About To Rock We Salute You   \n",
       "1          Rock                                  Balls to the Wall   \n",
       "2          Rock                                  Restless and Wild   \n",
       "3          Rock                                  Restless and Wild   \n",
       "4          Rock                                  Restless and Wild   \n",
       "...         ...                                                ...   \n",
       "3498  Classical                             Respighi:Pines of Rome   \n",
       "3499  Classical  Schubert: The Late String Quartets & String Qu...   \n",
       "3500  Classical                                Monteverdi: L'Orfeo   \n",
       "3501  Classical                              Mozart: Chamber Music   \n",
       "3502      Opera                          Mozart Gala: Famous Arias   \n",
       "\n",
       "                                             Track Name  \n",
       "0               For Those About To Rock (We Salute You)  \n",
       "1                                     Balls to the Wall  \n",
       "2                                       Fast As a Shark  \n",
       "3                                     Restless and Wild  \n",
       "4                                  Princess of the Dawn  \n",
       "...                                                 ...  \n",
       "3498  Pini Di Roma (Pinien Von Rom) \\ I Pini Della V...  \n",
       "3499  String Quartet No. 12 in C Minor, D. 703 \"Quar...  \n",
       "3500               L'orfeo, Act 3, Sinfonia (Orchestra)  \n",
       "3501  Quintet for Horn, Violin, 2 Violas, and Cello ...  \n",
       "3502  Die Zauberflöte, K.620: \"Der Hölle Rache Kocht...  \n",
       "\n",
       "[3503 rows x 3 columns]"
      ]
     },
     "execution_count": 12,
     "metadata": {},
     "output_type": "execute_result"
    }
   ],
   "source": [
    "query = \"\"\"SELECT genres.Name AS 'Genre Name', albums.Title AS 'Album Title', \n",
    "           tracks.Name AS 'Track Name'\n",
    "           FROM tracks\n",
    "           INNER JOIN genres ON genres.GenreId = tracks.GenreId\n",
    "           INNER JOIN albums ON albums.AlbumId = tracks.AlbumId\"\"\"\n",
    "\n",
    "dataframe_query(query)"
   ]
  },
  {
   "cell_type": "markdown",
   "metadata": {},
   "source": [
    "<br><br>\n",
    "\n",
    "## Query Directly using Pandas\n",
    "\n",
    "Pandas has function **`read_sql_query`** which takes query argument and **`connection Object`**, and it will automatically return a dataframe."
   ]
  },
  {
   "cell_type": "code",
   "execution_count": 13,
   "metadata": {},
   "outputs": [],
   "source": [
    "import pandas as pd"
   ]
  },
  {
   "cell_type": "code",
   "execution_count": 14,
   "metadata": {},
   "outputs": [
    {
     "data": {
      "text/html": [
       "<div>\n",
       "<style scoped>\n",
       "    .dataframe tbody tr th:only-of-type {\n",
       "        vertical-align: middle;\n",
       "    }\n",
       "\n",
       "    .dataframe tbody tr th {\n",
       "        vertical-align: top;\n",
       "    }\n",
       "\n",
       "    .dataframe thead th {\n",
       "        text-align: right;\n",
       "    }\n",
       "</style>\n",
       "<table border=\"1\" class=\"dataframe\">\n",
       "  <thead>\n",
       "    <tr style=\"text-align: right;\">\n",
       "      <th></th>\n",
       "      <th>Genre Name</th>\n",
       "      <th>Album Title</th>\n",
       "      <th>Track Name</th>\n",
       "    </tr>\n",
       "  </thead>\n",
       "  <tbody>\n",
       "    <tr>\n",
       "      <th>0</th>\n",
       "      <td>Rock</td>\n",
       "      <td>For Those About To Rock We Salute You</td>\n",
       "      <td>For Those About To Rock (We Salute You)</td>\n",
       "    </tr>\n",
       "    <tr>\n",
       "      <th>1</th>\n",
       "      <td>Rock</td>\n",
       "      <td>Balls to the Wall</td>\n",
       "      <td>Balls to the Wall</td>\n",
       "    </tr>\n",
       "    <tr>\n",
       "      <th>2</th>\n",
       "      <td>Rock</td>\n",
       "      <td>Restless and Wild</td>\n",
       "      <td>Fast As a Shark</td>\n",
       "    </tr>\n",
       "    <tr>\n",
       "      <th>3</th>\n",
       "      <td>Rock</td>\n",
       "      <td>Restless and Wild</td>\n",
       "      <td>Restless and Wild</td>\n",
       "    </tr>\n",
       "    <tr>\n",
       "      <th>4</th>\n",
       "      <td>Rock</td>\n",
       "      <td>Restless and Wild</td>\n",
       "      <td>Princess of the Dawn</td>\n",
       "    </tr>\n",
       "    <tr>\n",
       "      <th>...</th>\n",
       "      <td>...</td>\n",
       "      <td>...</td>\n",
       "      <td>...</td>\n",
       "    </tr>\n",
       "    <tr>\n",
       "      <th>3498</th>\n",
       "      <td>Classical</td>\n",
       "      <td>Respighi:Pines of Rome</td>\n",
       "      <td>Pini Di Roma (Pinien Von Rom) \\ I Pini Della V...</td>\n",
       "    </tr>\n",
       "    <tr>\n",
       "      <th>3499</th>\n",
       "      <td>Classical</td>\n",
       "      <td>Schubert: The Late String Quartets &amp; String Qu...</td>\n",
       "      <td>String Quartet No. 12 in C Minor, D. 703 \"Quar...</td>\n",
       "    </tr>\n",
       "    <tr>\n",
       "      <th>3500</th>\n",
       "      <td>Classical</td>\n",
       "      <td>Monteverdi: L'Orfeo</td>\n",
       "      <td>L'orfeo, Act 3, Sinfonia (Orchestra)</td>\n",
       "    </tr>\n",
       "    <tr>\n",
       "      <th>3501</th>\n",
       "      <td>Classical</td>\n",
       "      <td>Mozart: Chamber Music</td>\n",
       "      <td>Quintet for Horn, Violin, 2 Violas, and Cello ...</td>\n",
       "    </tr>\n",
       "    <tr>\n",
       "      <th>3502</th>\n",
       "      <td>Opera</td>\n",
       "      <td>Mozart Gala: Famous Arias</td>\n",
       "      <td>Die Zauberflöte, K.620: \"Der Hölle Rache Kocht...</td>\n",
       "    </tr>\n",
       "  </tbody>\n",
       "</table>\n",
       "<p>3503 rows × 3 columns</p>\n",
       "</div>"
      ],
      "text/plain": [
       "     Genre Name                                        Album Title  \\\n",
       "0          Rock              For Those About To Rock We Salute You   \n",
       "1          Rock                                  Balls to the Wall   \n",
       "2          Rock                                  Restless and Wild   \n",
       "3          Rock                                  Restless and Wild   \n",
       "4          Rock                                  Restless and Wild   \n",
       "...         ...                                                ...   \n",
       "3498  Classical                             Respighi:Pines of Rome   \n",
       "3499  Classical  Schubert: The Late String Quartets & String Qu...   \n",
       "3500  Classical                                Monteverdi: L'Orfeo   \n",
       "3501  Classical                              Mozart: Chamber Music   \n",
       "3502      Opera                          Mozart Gala: Famous Arias   \n",
       "\n",
       "                                             Track Name  \n",
       "0               For Those About To Rock (We Salute You)  \n",
       "1                                     Balls to the Wall  \n",
       "2                                       Fast As a Shark  \n",
       "3                                     Restless and Wild  \n",
       "4                                  Princess of the Dawn  \n",
       "...                                                 ...  \n",
       "3498  Pini Di Roma (Pinien Von Rom) \\ I Pini Della V...  \n",
       "3499  String Quartet No. 12 in C Minor, D. 703 \"Quar...  \n",
       "3500               L'orfeo, Act 3, Sinfonia (Orchestra)  \n",
       "3501  Quintet for Horn, Violin, 2 Violas, and Cello ...  \n",
       "3502  Die Zauberflöte, K.620: \"Der Hölle Rache Kocht...  \n",
       "\n",
       "[3503 rows x 3 columns]"
      ]
     },
     "execution_count": 14,
     "metadata": {},
     "output_type": "execute_result"
    }
   ],
   "source": [
    "query = \"\"\"SELECT genres.Name AS 'Genre Name', albums.Title AS 'Album Title', \n",
    "           tracks.Name AS 'Track Name'\n",
    "           FROM tracks\n",
    "           INNER JOIN genres ON genres.GenreId = tracks.GenreId\n",
    "           INNER JOIN albums ON albums.AlbumId = tracks.AlbumId\"\"\"\n",
    "\n",
    "df = pd.read_sql_query(query, con=connection)\n",
    "df"
   ]
  },
  {
   "cell_type": "code",
   "execution_count": 15,
   "metadata": {},
   "outputs": [
    {
     "data": {
      "text/plain": [
       "pandas.core.frame.DataFrame"
      ]
     },
     "execution_count": 15,
     "metadata": {},
     "output_type": "execute_result"
    }
   ],
   "source": [
    "type(df)"
   ]
  }
 ],
 "metadata": {
  "kernelspec": {
   "display_name": "Python 3",
   "language": "python",
   "name": "python3"
  },
  "language_info": {
   "codemirror_mode": {
    "name": "ipython",
    "version": 3
   },
   "file_extension": ".py",
   "mimetype": "text/x-python",
   "name": "python",
   "nbconvert_exporter": "python",
   "pygments_lexer": "ipython3",
   "version": "3.7.4"
  }
 },
 "nbformat": 4,
 "nbformat_minor": 4
}
