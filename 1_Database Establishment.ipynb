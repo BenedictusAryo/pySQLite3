{
 "cells": [
  {
   "cell_type": "markdown",
   "metadata": {},
   "source": [
    "# Database Establishment\n",
    "\n",
    "To use SQLite3 in Python, first of all, you will have to import the sqlite3 module and then create a connection object which will connect us to the database and will let us execute the SQL statements.\n",
    "\n",
    "full tutorial: https://likegeeks.com/python-sqlite3-tutorial/\n",
    "\n",
    "A connection object is created using the `connect()` function:"
   ]
  },
  {
   "cell_type": "code",
   "execution_count": 1,
   "metadata": {},
   "outputs": [],
   "source": [
    "# Import sqlite3 and create connection to create a new database .db\n",
    "import sqlite3\n",
    "\n",
    "connection = sqlite3.connect('test.db')"
   ]
  },
  {
   "cell_type": "markdown",
   "metadata": {},
   "source": [
    "A new file called `test.db` will be created where our database will be stored."
   ]
  },
  {
   "cell_type": "code",
   "execution_count": 2,
   "metadata": {},
   "outputs": [
    {
     "name": "stdout",
     "output_type": "stream",
     "text": [
      "-rw-r--r-- 1 Benedict 197609 8192 Mar 14 12:14 test.db\n"
     ]
    }
   ],
   "source": [
    "!ls -l | grep test.db"
   ]
  },
  {
   "cell_type": "markdown",
   "metadata": {},
   "source": [
    "## SQLite3 Cursor\n",
    "\n",
    "To execute SQLite statements in Python, you need a cursor object. You can create it using the `cursor()` method.\n",
    "\n",
    "The SQLite3 cursor is a method of the connection object. To execute the SQLite3 statements, a connection is established at first and then an object of the cursor is created using the connection object as follows:"
   ]
  },
  {
   "cell_type": "code",
   "execution_count": 3,
   "metadata": {},
   "outputs": [],
   "source": [
    "# Create cursor object after establish connection\n",
    "connection = sqlite3.connect('test.db')\n",
    "\n",
    "cursorObj = connection.cursor()"
   ]
  },
  {
   "cell_type": "markdown",
   "metadata": {},
   "source": [
    "Now we can use the cursor object to call the `execute()` method to execute any SQL queries.\n",
    "\n",
    "\n",
    "## Create Table\n",
    "To create a table in SQLite3, you can use the Create Table query in the `execute()` method. Consider the following steps:\n",
    "\n",
    "1. The connection object is created\n",
    "2. Cursor object is created using the connection object\n",
    "3. Using cursor object, execute method is called with create table query as the parameter\n",
    "\n",
    "Let’s create employees with the following attributes:\n",
    "\n",
    "```sql\n",
    "employees (id, name, salary, department, position, hireDate)\n",
    "```"
   ]
  },
  {
   "cell_type": "code",
   "execution_count": 4,
   "metadata": {},
   "outputs": [],
   "source": [
    "# Drop Table If Exist first\n",
    "cursorObj.execute(\"DROP TABLE IF EXISTS employees\")\n",
    "connection.commit()\n",
    "\n",
    "# Execute command from cursor object then do the commit\n",
    "cursorObj.execute(\"CREATE TABLE employees(id integer PRIMARY KEY, name test, salary real, department text, position text, hiredDate text)\")\n",
    "connection.commit()"
   ]
  },
  {
   "cell_type": "markdown",
   "metadata": {},
   "source": [
    "## Insert in Table\n",
    "To insert data in a table, we use the **INSERT INTO** statement. Consider the following line of code:"
   ]
  },
  {
   "cell_type": "code",
   "execution_count": 5,
   "metadata": {},
   "outputs": [],
   "source": [
    "cursorObj.execute(\"INSERT INTO employees VALUES(1, 'John', 700, 'HR', 'Manager', '2017-01-04')\")\n",
    "connection.commit()"
   ]
  },
  {
   "cell_type": "markdown",
   "metadata": {},
   "source": [
    "We can also pass `values/arguments` to an **INSERT** statement in the execute() method. You can use the `question mark (?)` as a placeholder for each value. The syntax of the **INSERT** will be like the following:"
   ]
  },
  {
   "cell_type": "code",
   "execution_count": null,
   "metadata": {},
   "outputs": [],
   "source": [
    "entities = (2, 'Andrew', 800, 'IT', 'Tech', '2018-02-06')"
   ]
  },
  {
   "cell_type": "code",
   "execution_count": null,
   "metadata": {},
   "outputs": [],
   "source": []
  },
  {
   "cell_type": "code",
   "execution_count": 6,
   "metadata": {},
   "outputs": [
    {
     "data": {
      "text/plain": [
       "[(1, 'John', 700.0, 'HR', 'Manager', '2017-01-04')]"
      ]
     },
     "execution_count": 6,
     "metadata": {},
     "output_type": "execute_result"
    }
   ],
   "source": [
    "cursorObj.execute(\"SELECT * FROM employees\")\n",
    "cursorObj.fetchall()"
   ]
  },
  {
   "cell_type": "code",
   "execution_count": null,
   "metadata": {},
   "outputs": [],
   "source": []
  },
  {
   "cell_type": "code",
   "execution_count": null,
   "metadata": {},
   "outputs": [],
   "source": []
  }
 ],
 "metadata": {
  "kernelspec": {
   "display_name": "Python 3",
   "language": "python",
   "name": "python3"
  },
  "language_info": {
   "codemirror_mode": {
    "name": "ipython",
    "version": 3
   },
   "file_extension": ".py",
   "mimetype": "text/x-python",
   "name": "python",
   "nbconvert_exporter": "python",
   "pygments_lexer": "ipython3",
   "version": "3.7.4"
  }
 },
 "nbformat": 4,
 "nbformat_minor": 4
}
