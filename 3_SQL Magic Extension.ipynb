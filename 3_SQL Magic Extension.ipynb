{
 "cells": [
  {
   "cell_type": "markdown",
   "metadata": {},
   "source": [
    "# 3 SQL Magic Extension\n",
    "\n",
    "Tutorial Reference : https://www.datacamp.com/community/tutorials/sql-interface-within-jupyterlab\n",
    "\n",
    "**Magic commands** are a set of convenient functions in Jupyter Notebooks that are designed to solve some of the common problems in standard data analysis. You can see all of the available magics with the help of `%lsmagic`."
   ]
  },
  {
   "cell_type": "code",
   "execution_count": null,
   "metadata": {},
   "outputs": [],
   "source": [
    "%lsmagic"
   ]
  },
  {
   "cell_type": "markdown",
   "metadata": {},
   "source": [
    "<br>\n",
    "\n",
    "[IPython SQL magic extension](https://github.com/catherinedevlin/ipython-sql) created by Catheride Devlin makes it possible to write SQL queries directly into code cells as well as read the results straight into pandas DataFrames ([Source](http://datascience.sharerecipe.net/2019/01/11/unleash-the-power-of-jupyter-notebooks/)). This works for both the traditional notebooks as well as the modern Jupyter Labs.\n",
    "\n",
    "**`Installing SQL module in the notebook`**\n",
    "\n",
    "```\n",
    "!pip install ipython-sql\n",
    "```"
   ]
  },
  {
   "cell_type": "code",
   "execution_count": null,
   "metadata": {},
   "outputs": [],
   "source": [
    "# Uncomment below if you haven't install the ipython-sql\n",
    "# !pip install ipython-sql"
   ]
  },
  {
   "cell_type": "markdown",
   "metadata": {},
   "source": [
    "<br>\n",
    "\n",
    "## Loading the SQL module\n",
    "By using `%load_ext sql`, we can use the `%sql` magic comand inside our jupyter files"
   ]
  },
  {
   "cell_type": "code",
   "execution_count": 3,
   "metadata": {},
   "outputs": [],
   "source": [
    "%load_ext sql"
   ]
  },
  {
   "cell_type": "markdown",
   "metadata": {},
   "source": [
    "<br>\n",
    "\n",
    "## Connecting to Database\n",
    "The SQL Magic command is based on [SQL ALchemy](https://www.sqlalchemy.org/) standard. Basically it can connect to many type of database, but since we focusing on **SQLite**, we connect to our SQLite database by put `sqlite:///` and specifying the file location."
   ]
  },
  {
   "cell_type": "code",
   "execution_count": 4,
   "metadata": {},
   "outputs": [
    {
     "data": {
      "text/plain": [
       "'Connected: @database/chinook.db'"
      ]
     },
     "execution_count": 4,
     "metadata": {},
     "output_type": "execute_result"
    }
   ],
   "source": [
    "#Specifying the path of the database  \n",
    "%sql sqlite:///database/chinook.db"
   ]
  },
  {
   "cell_type": "markdown",
   "metadata": {},
   "source": [
    "<br>\n",
    "\n",
    "Database used is `chinook` database, view the detail here: https://www.sqlitetutorial.net/sqlite-sample-database/\n",
    "\n",
    "<img src=\"database/chinook_schema.png\" width=\"800\">\n",
    "\n",
    "## Query Database using **`%sql`** Magic command"
   ]
  },
  {
   "cell_type": "code",
   "execution_count": 5,
   "metadata": {},
   "outputs": [
    {
     "name": "stdout",
     "output_type": "stream",
     "text": [
      " * sqlite:///database/chinook.db\n",
      "Done.\n"
     ]
    },
    {
     "data": {
      "text/html": [
       "<table>\n",
       "    <tr>\n",
       "        <th>name</th>\n",
       "    </tr>\n",
       "    <tr>\n",
       "        <td>albums</td>\n",
       "    </tr>\n",
       "    <tr>\n",
       "        <td>artists</td>\n",
       "    </tr>\n",
       "    <tr>\n",
       "        <td>customers</td>\n",
       "    </tr>\n",
       "    <tr>\n",
       "        <td>employees</td>\n",
       "    </tr>\n",
       "    <tr>\n",
       "        <td>genres</td>\n",
       "    </tr>\n",
       "    <tr>\n",
       "        <td>invoices</td>\n",
       "    </tr>\n",
       "    <tr>\n",
       "        <td>invoice_items</td>\n",
       "    </tr>\n",
       "    <tr>\n",
       "        <td>media_types</td>\n",
       "    </tr>\n",
       "    <tr>\n",
       "        <td>playlists</td>\n",
       "    </tr>\n",
       "    <tr>\n",
       "        <td>playlist_track</td>\n",
       "    </tr>\n",
       "    <tr>\n",
       "        <td>tracks</td>\n",
       "    </tr>\n",
       "</table>"
      ],
      "text/plain": [
       "[('albums',),\n",
       " ('artists',),\n",
       " ('customers',),\n",
       " ('employees',),\n",
       " ('genres',),\n",
       " ('invoices',),\n",
       " ('invoice_items',),\n",
       " ('media_types',),\n",
       " ('playlists',),\n",
       " ('playlist_track',),\n",
       " ('tracks',)]"
      ]
     },
     "execution_count": 5,
     "metadata": {},
     "output_type": "execute_result"
    }
   ],
   "source": [
    "# Show All table from `chinook` database\n",
    "%sql SELECT name FROM sqlite_master WHERE type='table' AND name NOT LIKE 'sqlite_%'"
   ]
  },
  {
   "cell_type": "markdown",
   "metadata": {},
   "source": [
    "<br>\n",
    "\n",
    "As you can see, by using **`%sql`** magic command, we can directly query to the database without creating _cursor connection_. <br> the result of query also showing up as **HTML Table Format**, which is pretty neat.\n",
    "\n",
    "### One Liner Query\n",
    "As Mentioned previously there are 2 component when querying databaset using SQL Magic extension, <br>\n",
    "The **`%sql`** + **Table Query** <br>\n",
    "Those 2 has to be in the same line"
   ]
  },
  {
   "cell_type": "code",
   "execution_count": 6,
   "metadata": {},
   "outputs": [
    {
     "name": "stdout",
     "output_type": "stream",
     "text": [
      " * sqlite:///database/chinook.db\n",
      "Done.\n"
     ]
    },
    {
     "data": {
      "text/html": [
       "<table>\n",
       "    <tr>\n",
       "        <th>EmployeeId</th>\n",
       "        <th>LastName</th>\n",
       "        <th>FirstName</th>\n",
       "        <th>Title</th>\n",
       "        <th>ReportsTo</th>\n",
       "        <th>BirthDate</th>\n",
       "        <th>HireDate</th>\n",
       "        <th>Address</th>\n",
       "        <th>City</th>\n",
       "        <th>State</th>\n",
       "        <th>Country</th>\n",
       "        <th>PostalCode</th>\n",
       "        <th>Phone</th>\n",
       "        <th>Fax</th>\n",
       "        <th>Email</th>\n",
       "    </tr>\n",
       "    <tr>\n",
       "        <td>1</td>\n",
       "        <td>Adams</td>\n",
       "        <td>Andrew</td>\n",
       "        <td>General Manager</td>\n",
       "        <td>None</td>\n",
       "        <td>1962-02-18 00:00:00</td>\n",
       "        <td>2002-08-14 00:00:00</td>\n",
       "        <td>11120 Jasper Ave NW</td>\n",
       "        <td>Edmonton</td>\n",
       "        <td>AB</td>\n",
       "        <td>Canada</td>\n",
       "        <td>T5K 2N1</td>\n",
       "        <td>+1 (780) 428-9482</td>\n",
       "        <td>+1 (780) 428-3457</td>\n",
       "        <td>andrew@chinookcorp.com</td>\n",
       "    </tr>\n",
       "    <tr>\n",
       "        <td>2</td>\n",
       "        <td>Edwards</td>\n",
       "        <td>Nancy</td>\n",
       "        <td>Sales Manager</td>\n",
       "        <td>1</td>\n",
       "        <td>1958-12-08 00:00:00</td>\n",
       "        <td>2002-05-01 00:00:00</td>\n",
       "        <td>825 8 Ave SW</td>\n",
       "        <td>Calgary</td>\n",
       "        <td>AB</td>\n",
       "        <td>Canada</td>\n",
       "        <td>T2P 2T3</td>\n",
       "        <td>+1 (403) 262-3443</td>\n",
       "        <td>+1 (403) 262-3322</td>\n",
       "        <td>nancy@chinookcorp.com</td>\n",
       "    </tr>\n",
       "    <tr>\n",
       "        <td>3</td>\n",
       "        <td>Peacock</td>\n",
       "        <td>Jane</td>\n",
       "        <td>Sales Support Agent</td>\n",
       "        <td>2</td>\n",
       "        <td>1973-08-29 00:00:00</td>\n",
       "        <td>2002-04-01 00:00:00</td>\n",
       "        <td>1111 6 Ave SW</td>\n",
       "        <td>Calgary</td>\n",
       "        <td>AB</td>\n",
       "        <td>Canada</td>\n",
       "        <td>T2P 5M5</td>\n",
       "        <td>+1 (403) 262-3443</td>\n",
       "        <td>+1 (403) 262-6712</td>\n",
       "        <td>jane@chinookcorp.com</td>\n",
       "    </tr>\n",
       "</table>"
      ],
      "text/plain": [
       "[(1, 'Adams', 'Andrew', 'General Manager', None, '1962-02-18 00:00:00', '2002-08-14 00:00:00', '11120 Jasper Ave NW', 'Edmonton', 'AB', 'Canada', 'T5K 2N1', '+1 (780) 428-9482', '+1 (780) 428-3457', 'andrew@chinookcorp.com'),\n",
       " (2, 'Edwards', 'Nancy', 'Sales Manager', 1, '1958-12-08 00:00:00', '2002-05-01 00:00:00', '825 8 Ave SW', 'Calgary', 'AB', 'Canada', 'T2P 2T3', '+1 (403) 262-3443', '+1 (403) 262-3322', 'nancy@chinookcorp.com'),\n",
       " (3, 'Peacock', 'Jane', 'Sales Support Agent', 2, '1973-08-29 00:00:00', '2002-04-01 00:00:00', '1111 6 Ave SW', 'Calgary', 'AB', 'Canada', 'T2P 5M5', '+1 (403) 262-3443', '+1 (403) 262-6712', 'jane@chinookcorp.com')]"
      ]
     },
     "execution_count": 6,
     "metadata": {},
     "output_type": "execute_result"
    }
   ],
   "source": [
    "%sql SELECT * FROM employees LIMIT 3"
   ]
  },
  {
   "cell_type": "markdown",
   "metadata": {},
   "source": [
    "<br><br>\n",
    "\n",
    "### Multiline Query\n",
    "If you have **Long and/or Complex Query**, consider using multiline to increase readability of the query. <br>\n",
    "By using _double percentage_ **`%%sql`**, you can use the whole cell into the query command."
   ]
  },
  {
   "cell_type": "code",
   "execution_count": 7,
   "metadata": {},
   "outputs": [
    {
     "name": "stdout",
     "output_type": "stream",
     "text": [
      " * sqlite:///database/chinook.db\n",
      "Done.\n"
     ]
    },
    {
     "data": {
      "text/html": [
       "<table>\n",
       "    <tr>\n",
       "        <th>Genre Name</th>\n",
       "        <th>Artist Name</th>\n",
       "        <th>Album Title</th>\n",
       "        <th>Track Name</th>\n",
       "    </tr>\n",
       "    <tr>\n",
       "        <td>Rock</td>\n",
       "        <td>Terry Bozzio, Tony Levin &amp; Steve Stevens</td>\n",
       "        <td>[1997] Black Light Syndrome</td>\n",
       "        <td>The Sun Road</td>\n",
       "    </tr>\n",
       "    <tr>\n",
       "        <td>Rock</td>\n",
       "        <td>Terry Bozzio, Tony Levin &amp; Steve Stevens</td>\n",
       "        <td>[1997] Black Light Syndrome</td>\n",
       "        <td>Dark Corners</td>\n",
       "    </tr>\n",
       "    <tr>\n",
       "        <td>Rock</td>\n",
       "        <td>Terry Bozzio, Tony Levin &amp; Steve Stevens</td>\n",
       "        <td>[1997] Black Light Syndrome</td>\n",
       "        <td>Duende</td>\n",
       "    </tr>\n",
       "    <tr>\n",
       "        <td>Rock</td>\n",
       "        <td>Terry Bozzio, Tony Levin &amp; Steve Stevens</td>\n",
       "        <td>[1997] Black Light Syndrome</td>\n",
       "        <td>Black Light Syndrome</td>\n",
       "    </tr>\n",
       "    <tr>\n",
       "        <td>Rock</td>\n",
       "        <td>Terry Bozzio, Tony Levin &amp; Steve Stevens</td>\n",
       "        <td>[1997] Black Light Syndrome</td>\n",
       "        <td>Falling in Circles</td>\n",
       "    </tr>\n",
       "    <tr>\n",
       "        <td>Rock</td>\n",
       "        <td>Terry Bozzio, Tony Levin &amp; Steve Stevens</td>\n",
       "        <td>[1997] Black Light Syndrome</td>\n",
       "        <td>Book of Hours</td>\n",
       "    </tr>\n",
       "    <tr>\n",
       "        <td>Rock</td>\n",
       "        <td>Terry Bozzio, Tony Levin &amp; Steve Stevens</td>\n",
       "        <td>[1997] Black Light Syndrome</td>\n",
       "        <td>Chaos-Control</td>\n",
       "    </tr>\n",
       "    <tr>\n",
       "        <td>Rock</td>\n",
       "        <td>U2</td>\n",
       "        <td>Zooropa</td>\n",
       "        <td>Zooropa</td>\n",
       "    </tr>\n",
       "    <tr>\n",
       "        <td>Rock</td>\n",
       "        <td>U2</td>\n",
       "        <td>Zooropa</td>\n",
       "        <td>Babyface</td>\n",
       "    </tr>\n",
       "    <tr>\n",
       "        <td>Rock</td>\n",
       "        <td>U2</td>\n",
       "        <td>Zooropa</td>\n",
       "        <td>Numb</td>\n",
       "    </tr>\n",
       "    <tr>\n",
       "        <td>Rock</td>\n",
       "        <td>U2</td>\n",
       "        <td>Zooropa</td>\n",
       "        <td>Lemon</td>\n",
       "    </tr>\n",
       "    <tr>\n",
       "        <td>Rock</td>\n",
       "        <td>U2</td>\n",
       "        <td>Zooropa</td>\n",
       "        <td>Stay (Faraway, So Close!)</td>\n",
       "    </tr>\n",
       "    <tr>\n",
       "        <td>Rock</td>\n",
       "        <td>U2</td>\n",
       "        <td>Zooropa</td>\n",
       "        <td>Daddy&#x27;s Gonna Pay For Your Crashed Car</td>\n",
       "    </tr>\n",
       "    <tr>\n",
       "        <td>Rock</td>\n",
       "        <td>U2</td>\n",
       "        <td>Zooropa</td>\n",
       "        <td>Some Days Are Better Than Others</td>\n",
       "    </tr>\n",
       "    <tr>\n",
       "        <td>Rock</td>\n",
       "        <td>U2</td>\n",
       "        <td>Zooropa</td>\n",
       "        <td>The First Time</td>\n",
       "    </tr>\n",
       "</table>"
      ],
      "text/plain": [
       "[('Rock', 'Terry Bozzio, Tony Levin & Steve Stevens', '[1997] Black Light Syndrome', 'The Sun Road'),\n",
       " ('Rock', 'Terry Bozzio, Tony Levin & Steve Stevens', '[1997] Black Light Syndrome', 'Dark Corners'),\n",
       " ('Rock', 'Terry Bozzio, Tony Levin & Steve Stevens', '[1997] Black Light Syndrome', 'Duende'),\n",
       " ('Rock', 'Terry Bozzio, Tony Levin & Steve Stevens', '[1997] Black Light Syndrome', 'Black Light Syndrome'),\n",
       " ('Rock', 'Terry Bozzio, Tony Levin & Steve Stevens', '[1997] Black Light Syndrome', 'Falling in Circles'),\n",
       " ('Rock', 'Terry Bozzio, Tony Levin & Steve Stevens', '[1997] Black Light Syndrome', 'Book of Hours'),\n",
       " ('Rock', 'Terry Bozzio, Tony Levin & Steve Stevens', '[1997] Black Light Syndrome', 'Chaos-Control'),\n",
       " ('Rock', 'U2', 'Zooropa', 'Zooropa'),\n",
       " ('Rock', 'U2', 'Zooropa', 'Babyface'),\n",
       " ('Rock', 'U2', 'Zooropa', 'Numb'),\n",
       " ('Rock', 'U2', 'Zooropa', 'Lemon'),\n",
       " ('Rock', 'U2', 'Zooropa', 'Stay (Faraway, So Close!)'),\n",
       " ('Rock', 'U2', 'Zooropa', \"Daddy's Gonna Pay For Your Crashed Car\"),\n",
       " ('Rock', 'U2', 'Zooropa', 'Some Days Are Better Than Others'),\n",
       " ('Rock', 'U2', 'Zooropa', 'The First Time')]"
      ]
     },
     "execution_count": 7,
     "metadata": {},
     "output_type": "execute_result"
    }
   ],
   "source": [
    "%%sql\n",
    "\n",
    "SELECT genres.Name AS 'Genre Name', artists.Name AS 'Artist Name',\n",
    "albums.Title AS 'Album Title', tracks.Name AS 'Track Name'\n",
    "FROM tracks\n",
    "INNER JOIN genres ON genres.GenreId = tracks.GenreId\n",
    "INNER JOIN albums ON albums.AlbumId = tracks.AlbumId\n",
    "INNER JOIN artists ON albums.ArtistId = artists.ArtistId\n",
    "ORDER BY albums.Title DESC\n",
    "LIMIT 15"
   ]
  },
  {
   "cell_type": "markdown",
   "metadata": {},
   "source": [
    "<br><br>\n",
    "\n",
    "## DataFrame Output\n",
    "\n",
    "You can also get the result of your SQL query as a pandas data frame object if you would like to proceed working with the result set using Python. The result object of SQL query execution can be accessed from a variable _. This is because IPython's output caching system defines several global variables; _ (a single underscore) stores previous output just like the IPython interpreter."
   ]
  },
  {
   "cell_type": "code",
   "execution_count": 8,
   "metadata": {},
   "outputs": [
    {
     "data": {
      "text/html": [
       "<div>\n",
       "<style scoped>\n",
       "    .dataframe tbody tr th:only-of-type {\n",
       "        vertical-align: middle;\n",
       "    }\n",
       "\n",
       "    .dataframe tbody tr th {\n",
       "        vertical-align: top;\n",
       "    }\n",
       "\n",
       "    .dataframe thead th {\n",
       "        text-align: right;\n",
       "    }\n",
       "</style>\n",
       "<table border=\"1\" class=\"dataframe\">\n",
       "  <thead>\n",
       "    <tr style=\"text-align: right;\">\n",
       "      <th></th>\n",
       "      <th>Genre Name</th>\n",
       "      <th>Artist Name</th>\n",
       "      <th>Album Title</th>\n",
       "      <th>Track Name</th>\n",
       "    </tr>\n",
       "  </thead>\n",
       "  <tbody>\n",
       "    <tr>\n",
       "      <th>0</th>\n",
       "      <td>Rock</td>\n",
       "      <td>Terry Bozzio, Tony Levin &amp; Steve Stevens</td>\n",
       "      <td>[1997] Black Light Syndrome</td>\n",
       "      <td>The Sun Road</td>\n",
       "    </tr>\n",
       "    <tr>\n",
       "      <th>1</th>\n",
       "      <td>Rock</td>\n",
       "      <td>Terry Bozzio, Tony Levin &amp; Steve Stevens</td>\n",
       "      <td>[1997] Black Light Syndrome</td>\n",
       "      <td>Dark Corners</td>\n",
       "    </tr>\n",
       "    <tr>\n",
       "      <th>2</th>\n",
       "      <td>Rock</td>\n",
       "      <td>Terry Bozzio, Tony Levin &amp; Steve Stevens</td>\n",
       "      <td>[1997] Black Light Syndrome</td>\n",
       "      <td>Duende</td>\n",
       "    </tr>\n",
       "    <tr>\n",
       "      <th>3</th>\n",
       "      <td>Rock</td>\n",
       "      <td>Terry Bozzio, Tony Levin &amp; Steve Stevens</td>\n",
       "      <td>[1997] Black Light Syndrome</td>\n",
       "      <td>Black Light Syndrome</td>\n",
       "    </tr>\n",
       "    <tr>\n",
       "      <th>4</th>\n",
       "      <td>Rock</td>\n",
       "      <td>Terry Bozzio, Tony Levin &amp; Steve Stevens</td>\n",
       "      <td>[1997] Black Light Syndrome</td>\n",
       "      <td>Falling in Circles</td>\n",
       "    </tr>\n",
       "    <tr>\n",
       "      <th>5</th>\n",
       "      <td>Rock</td>\n",
       "      <td>Terry Bozzio, Tony Levin &amp; Steve Stevens</td>\n",
       "      <td>[1997] Black Light Syndrome</td>\n",
       "      <td>Book of Hours</td>\n",
       "    </tr>\n",
       "    <tr>\n",
       "      <th>6</th>\n",
       "      <td>Rock</td>\n",
       "      <td>Terry Bozzio, Tony Levin &amp; Steve Stevens</td>\n",
       "      <td>[1997] Black Light Syndrome</td>\n",
       "      <td>Chaos-Control</td>\n",
       "    </tr>\n",
       "    <tr>\n",
       "      <th>7</th>\n",
       "      <td>Rock</td>\n",
       "      <td>U2</td>\n",
       "      <td>Zooropa</td>\n",
       "      <td>Zooropa</td>\n",
       "    </tr>\n",
       "    <tr>\n",
       "      <th>8</th>\n",
       "      <td>Rock</td>\n",
       "      <td>U2</td>\n",
       "      <td>Zooropa</td>\n",
       "      <td>Babyface</td>\n",
       "    </tr>\n",
       "    <tr>\n",
       "      <th>9</th>\n",
       "      <td>Rock</td>\n",
       "      <td>U2</td>\n",
       "      <td>Zooropa</td>\n",
       "      <td>Numb</td>\n",
       "    </tr>\n",
       "    <tr>\n",
       "      <th>10</th>\n",
       "      <td>Rock</td>\n",
       "      <td>U2</td>\n",
       "      <td>Zooropa</td>\n",
       "      <td>Lemon</td>\n",
       "    </tr>\n",
       "    <tr>\n",
       "      <th>11</th>\n",
       "      <td>Rock</td>\n",
       "      <td>U2</td>\n",
       "      <td>Zooropa</td>\n",
       "      <td>Stay (Faraway, So Close!)</td>\n",
       "    </tr>\n",
       "    <tr>\n",
       "      <th>12</th>\n",
       "      <td>Rock</td>\n",
       "      <td>U2</td>\n",
       "      <td>Zooropa</td>\n",
       "      <td>Daddy's Gonna Pay For Your Crashed Car</td>\n",
       "    </tr>\n",
       "    <tr>\n",
       "      <th>13</th>\n",
       "      <td>Rock</td>\n",
       "      <td>U2</td>\n",
       "      <td>Zooropa</td>\n",
       "      <td>Some Days Are Better Than Others</td>\n",
       "    </tr>\n",
       "    <tr>\n",
       "      <th>14</th>\n",
       "      <td>Rock</td>\n",
       "      <td>U2</td>\n",
       "      <td>Zooropa</td>\n",
       "      <td>The First Time</td>\n",
       "    </tr>\n",
       "  </tbody>\n",
       "</table>\n",
       "</div>"
      ],
      "text/plain": [
       "   Genre Name                               Artist Name  \\\n",
       "0        Rock  Terry Bozzio, Tony Levin & Steve Stevens   \n",
       "1        Rock  Terry Bozzio, Tony Levin & Steve Stevens   \n",
       "2        Rock  Terry Bozzio, Tony Levin & Steve Stevens   \n",
       "3        Rock  Terry Bozzio, Tony Levin & Steve Stevens   \n",
       "4        Rock  Terry Bozzio, Tony Levin & Steve Stevens   \n",
       "5        Rock  Terry Bozzio, Tony Levin & Steve Stevens   \n",
       "6        Rock  Terry Bozzio, Tony Levin & Steve Stevens   \n",
       "7        Rock                                        U2   \n",
       "8        Rock                                        U2   \n",
       "9        Rock                                        U2   \n",
       "10       Rock                                        U2   \n",
       "11       Rock                                        U2   \n",
       "12       Rock                                        U2   \n",
       "13       Rock                                        U2   \n",
       "14       Rock                                        U2   \n",
       "\n",
       "                    Album Title                              Track Name  \n",
       "0   [1997] Black Light Syndrome                            The Sun Road  \n",
       "1   [1997] Black Light Syndrome                            Dark Corners  \n",
       "2   [1997] Black Light Syndrome                                  Duende  \n",
       "3   [1997] Black Light Syndrome                    Black Light Syndrome  \n",
       "4   [1997] Black Light Syndrome                      Falling in Circles  \n",
       "5   [1997] Black Light Syndrome                           Book of Hours  \n",
       "6   [1997] Black Light Syndrome                           Chaos-Control  \n",
       "7                       Zooropa                                 Zooropa  \n",
       "8                       Zooropa                                Babyface  \n",
       "9                       Zooropa                                    Numb  \n",
       "10                      Zooropa                                   Lemon  \n",
       "11                      Zooropa               Stay (Faraway, So Close!)  \n",
       "12                      Zooropa  Daddy's Gonna Pay For Your Crashed Car  \n",
       "13                      Zooropa        Some Days Are Better Than Others  \n",
       "14                      Zooropa                          The First Time  "
      ]
     },
     "execution_count": 8,
     "metadata": {},
     "output_type": "execute_result"
    }
   ],
   "source": [
    "df = _.DataFrame()\n",
    "df"
   ]
  },
  {
   "cell_type": "code",
   "execution_count": null,
   "metadata": {},
   "outputs": [],
   "source": []
  }
 ],
 "metadata": {
  "kernelspec": {
   "display_name": "Python 3",
   "language": "python",
   "name": "python3"
  },
  "language_info": {
   "codemirror_mode": {
    "name": "ipython",
    "version": 3
   },
   "file_extension": ".py",
   "mimetype": "text/x-python",
   "name": "python",
   "nbconvert_exporter": "python",
   "pygments_lexer": "ipython3",
   "version": "3.7.4"
  }
 },
 "nbformat": 4,
 "nbformat_minor": 4
}
