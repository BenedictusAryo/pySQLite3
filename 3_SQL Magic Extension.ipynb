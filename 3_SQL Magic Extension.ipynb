{
 "cells": [
  {
   "cell_type": "markdown",
   "metadata": {},
   "source": [
    "# 3 SQL Magic Extension\n",
    "\n",
    "Tutorial Reference : https://www.datacamp.com/community/tutorials/sql-interface-within-jupyterlab\n",
    "\n",
    "**Magic commands** are a set of convenient functions in Jupyter Notebooks that are designed to solve some of the common problems in standard data analysis. You can see all of the available magics with the help of `%lsmagic`."
   ]
  },
  {
   "cell_type": "code",
   "execution_count": 1,
   "metadata": {},
   "outputs": [
    {
     "data": {
      "application/json": {
       "cell": {
        "!": "OSMagics",
        "HTML": "Other",
        "SVG": "Other",
        "bash": "Other",
        "capture": "ExecutionMagics",
        "cmd": "Other",
        "debug": "ExecutionMagics",
        "file": "Other",
        "html": "DisplayMagics",
        "javascript": "DisplayMagics",
        "js": "DisplayMagics",
        "latex": "DisplayMagics",
        "markdown": "DisplayMagics",
        "perl": "Other",
        "prun": "ExecutionMagics",
        "pypy": "Other",
        "python": "Other",
        "python2": "Other",
        "python3": "Other",
        "ruby": "Other",
        "script": "ScriptMagics",
        "sh": "Other",
        "svg": "DisplayMagics",
        "sx": "OSMagics",
        "system": "OSMagics",
        "time": "ExecutionMagics",
        "timeit": "ExecutionMagics",
        "writefile": "OSMagics"
       },
       "line": {
        "alias": "OSMagics",
        "alias_magic": "BasicMagics",
        "autoawait": "AsyncMagics",
        "autocall": "AutoMagics",
        "automagic": "AutoMagics",
        "autosave": "KernelMagics",
        "bookmark": "OSMagics",
        "cd": "OSMagics",
        "clear": "KernelMagics",
        "cls": "KernelMagics",
        "colors": "BasicMagics",
        "conda": "PackagingMagics",
        "config": "ConfigMagics",
        "connect_info": "KernelMagics",
        "copy": "Other",
        "ddir": "Other",
        "debug": "ExecutionMagics",
        "dhist": "OSMagics",
        "dirs": "OSMagics",
        "doctest_mode": "BasicMagics",
        "echo": "Other",
        "ed": "Other",
        "edit": "KernelMagics",
        "env": "OSMagics",
        "gui": "BasicMagics",
        "hist": "Other",
        "history": "HistoryMagics",
        "killbgscripts": "ScriptMagics",
        "ldir": "Other",
        "less": "KernelMagics",
        "load": "CodeMagics",
        "load_ext": "ExtensionMagics",
        "loadpy": "CodeMagics",
        "logoff": "LoggingMagics",
        "logon": "LoggingMagics",
        "logstart": "LoggingMagics",
        "logstate": "LoggingMagics",
        "logstop": "LoggingMagics",
        "ls": "Other",
        "lsmagic": "BasicMagics",
        "macro": "ExecutionMagics",
        "magic": "BasicMagics",
        "matplotlib": "PylabMagics",
        "mkdir": "Other",
        "more": "KernelMagics",
        "notebook": "BasicMagics",
        "page": "BasicMagics",
        "pastebin": "CodeMagics",
        "pdb": "ExecutionMagics",
        "pdef": "NamespaceMagics",
        "pdoc": "NamespaceMagics",
        "pfile": "NamespaceMagics",
        "pinfo": "NamespaceMagics",
        "pinfo2": "NamespaceMagics",
        "pip": "PackagingMagics",
        "popd": "OSMagics",
        "pprint": "BasicMagics",
        "precision": "BasicMagics",
        "prun": "ExecutionMagics",
        "psearch": "NamespaceMagics",
        "psource": "NamespaceMagics",
        "pushd": "OSMagics",
        "pwd": "OSMagics",
        "pycat": "OSMagics",
        "pylab": "PylabMagics",
        "qtconsole": "KernelMagics",
        "quickref": "BasicMagics",
        "recall": "HistoryMagics",
        "rehashx": "OSMagics",
        "reload_ext": "ExtensionMagics",
        "ren": "Other",
        "rep": "Other",
        "rerun": "HistoryMagics",
        "reset": "NamespaceMagics",
        "reset_selective": "NamespaceMagics",
        "rmdir": "Other",
        "run": "ExecutionMagics",
        "save": "CodeMagics",
        "sc": "OSMagics",
        "set_env": "OSMagics",
        "store": "StoreMagics",
        "sx": "OSMagics",
        "system": "OSMagics",
        "tb": "ExecutionMagics",
        "time": "ExecutionMagics",
        "timeit": "ExecutionMagics",
        "unalias": "OSMagics",
        "unload_ext": "ExtensionMagics",
        "who": "NamespaceMagics",
        "who_ls": "NamespaceMagics",
        "whos": "NamespaceMagics",
        "xdel": "NamespaceMagics",
        "xmode": "BasicMagics"
       }
      },
      "text/plain": [
       "Available line magics:\n",
       "%alias  %alias_magic  %autoawait  %autocall  %automagic  %autosave  %bookmark  %cd  %clear  %cls  %colors  %conda  %config  %connect_info  %copy  %ddir  %debug  %dhist  %dirs  %doctest_mode  %echo  %ed  %edit  %env  %gui  %hist  %history  %killbgscripts  %ldir  %less  %load  %load_ext  %loadpy  %logoff  %logon  %logstart  %logstate  %logstop  %ls  %lsmagic  %macro  %magic  %matplotlib  %mkdir  %more  %notebook  %page  %pastebin  %pdb  %pdef  %pdoc  %pfile  %pinfo  %pinfo2  %pip  %popd  %pprint  %precision  %prun  %psearch  %psource  %pushd  %pwd  %pycat  %pylab  %qtconsole  %quickref  %recall  %rehashx  %reload_ext  %ren  %rep  %rerun  %reset  %reset_selective  %rmdir  %run  %save  %sc  %set_env  %store  %sx  %system  %tb  %time  %timeit  %unalias  %unload_ext  %who  %who_ls  %whos  %xdel  %xmode\n",
       "\n",
       "Available cell magics:\n",
       "%%!  %%HTML  %%SVG  %%bash  %%capture  %%cmd  %%debug  %%file  %%html  %%javascript  %%js  %%latex  %%markdown  %%perl  %%prun  %%pypy  %%python  %%python2  %%python3  %%ruby  %%script  %%sh  %%svg  %%sx  %%system  %%time  %%timeit  %%writefile\n",
       "\n",
       "Automagic is ON, % prefix IS NOT needed for line magics."
      ]
     },
     "execution_count": 1,
     "metadata": {},
     "output_type": "execute_result"
    }
   ],
   "source": [
    "%lsmagic"
   ]
  },
  {
   "cell_type": "markdown",
   "metadata": {},
   "source": [
    "<br>\n",
    "\n",
    "[IPython SQL magic extension](https://github.com/catherinedevlin/ipython-sql) created by Catheride Devlin makes it possible to write SQL queries directly into code cells as well as read the results straight into pandas DataFrames ([Source](http://datascience.sharerecipe.net/2019/01/11/unleash-the-power-of-jupyter-notebooks/)). This works for both the traditional notebooks as well as the modern Jupyter Labs.\n",
    "\n",
    "**`Installing SQL module in the notebook`**\n",
    "\n",
    "```\n",
    "!pip install ipython-sql\n",
    "```"
   ]
  },
  {
   "cell_type": "code",
   "execution_count": 2,
   "metadata": {},
   "outputs": [],
   "source": [
    "# Uncomment below if you haven't install the ipython-sql\n",
    "# !pip install ipython-sql"
   ]
  },
  {
   "cell_type": "markdown",
   "metadata": {},
   "source": [
    "<br>\n",
    "\n",
    "## Loading the SQL module\n",
    "By using `%load_ext sql`, we can use the `%sql` magic comand inside our jupyter files"
   ]
  },
  {
   "cell_type": "code",
   "execution_count": 3,
   "metadata": {},
   "outputs": [],
   "source": [
    "%load_ext sql"
   ]
  },
  {
   "cell_type": "markdown",
   "metadata": {},
   "source": [
    "<br>\n",
    "\n",
    "## Connecting to Database\n",
    "The SQL Magic command is based on [SQL ALchemy](https://www.sqlalchemy.org/) standard. Basically it can connect to many type of database, but since we focusing on **SQLite**, we connect to our SQLite database by put `sqlite:///` and specifying the file location."
   ]
  },
  {
   "cell_type": "code",
   "execution_count": 4,
   "metadata": {},
   "outputs": [
    {
     "data": {
      "text/plain": [
       "'Connected: @database/chinook.db'"
      ]
     },
     "execution_count": 4,
     "metadata": {},
     "output_type": "execute_result"
    }
   ],
   "source": [
    "#Specifying the path of the database  \n",
    "%sql sqlite:///database/chinook.db"
   ]
  },
  {
   "cell_type": "markdown",
   "metadata": {},
   "source": [
    "<br>\n",
    "\n",
    "Database used is `chinook` database, view the detail here: https://www.sqlitetutorial.net/sqlite-sample-database/\n",
    "\n",
    "<img src=\"database/chinook_schema.png\" width=\"800\">\n",
    "\n",
    "## Query Database using **`%sql`** Magic command"
   ]
  },
  {
   "cell_type": "code",
   "execution_count": 5,
   "metadata": {},
   "outputs": [
    {
     "name": "stdout",
     "output_type": "stream",
     "text": [
      " * sqlite:///database/chinook.db\n",
      "Done.\n"
     ]
    },
    {
     "data": {
      "text/html": [
       "<table>\n",
       "    <tr>\n",
       "        <th>name</th>\n",
       "    </tr>\n",
       "    <tr>\n",
       "        <td>albums</td>\n",
       "    </tr>\n",
       "    <tr>\n",
       "        <td>artists</td>\n",
       "    </tr>\n",
       "    <tr>\n",
       "        <td>customers</td>\n",
       "    </tr>\n",
       "    <tr>\n",
       "        <td>employees</td>\n",
       "    </tr>\n",
       "    <tr>\n",
       "        <td>genres</td>\n",
       "    </tr>\n",
       "    <tr>\n",
       "        <td>invoices</td>\n",
       "    </tr>\n",
       "    <tr>\n",
       "        <td>invoice_items</td>\n",
       "    </tr>\n",
       "    <tr>\n",
       "        <td>media_types</td>\n",
       "    </tr>\n",
       "    <tr>\n",
       "        <td>playlists</td>\n",
       "    </tr>\n",
       "    <tr>\n",
       "        <td>playlist_track</td>\n",
       "    </tr>\n",
       "    <tr>\n",
       "        <td>tracks</td>\n",
       "    </tr>\n",
       "</table>"
      ],
      "text/plain": [
       "[('albums',),\n",
       " ('artists',),\n",
       " ('customers',),\n",
       " ('employees',),\n",
       " ('genres',),\n",
       " ('invoices',),\n",
       " ('invoice_items',),\n",
       " ('media_types',),\n",
       " ('playlists',),\n",
       " ('playlist_track',),\n",
       " ('tracks',)]"
      ]
     },
     "execution_count": 5,
     "metadata": {},
     "output_type": "execute_result"
    }
   ],
   "source": [
    "# Show All table from `chinook` database\n",
    "%sql SELECT name FROM sqlite_master WHERE type='table' AND name NOT LIKE 'sqlite_%'"
   ]
  },
  {
   "cell_type": "markdown",
   "metadata": {},
   "source": [
    "<br>\n",
    "\n",
    "As you can see, by using **`%sql`** magic command, we can directly query to the database without creating _cursor connection_. <br> the result of query also showing up as **Pandas DataFrame**\n",
    "\n",
    "### One Liner Query\n",
    "As Mentioned previously there are 2 component when querying databaset using SQL Magic extension, <br>\n",
    "The **`%sql`** + **Table Query** <br>\n",
    "Those 2 has to be in the same line"
   ]
  },
  {
   "cell_type": "code",
   "execution_count": 6,
   "metadata": {},
   "outputs": [
    {
     "name": "stdout",
     "output_type": "stream",
     "text": [
      " * sqlite:///database/chinook.db\n",
      "Done.\n"
     ]
    },
    {
     "data": {
      "text/html": [
       "<table>\n",
       "    <tr>\n",
       "        <th>EmployeeId</th>\n",
       "        <th>LastName</th>\n",
       "        <th>FirstName</th>\n",
       "        <th>Title</th>\n",
       "        <th>ReportsTo</th>\n",
       "        <th>BirthDate</th>\n",
       "        <th>HireDate</th>\n",
       "        <th>Address</th>\n",
       "        <th>City</th>\n",
       "        <th>State</th>\n",
       "        <th>Country</th>\n",
       "        <th>PostalCode</th>\n",
       "        <th>Phone</th>\n",
       "        <th>Fax</th>\n",
       "        <th>Email</th>\n",
       "    </tr>\n",
       "    <tr>\n",
       "        <td>1</td>\n",
       "        <td>Adams</td>\n",
       "        <td>Andrew</td>\n",
       "        <td>General Manager</td>\n",
       "        <td>None</td>\n",
       "        <td>1962-02-18 00:00:00</td>\n",
       "        <td>2002-08-14 00:00:00</td>\n",
       "        <td>11120 Jasper Ave NW</td>\n",
       "        <td>Edmonton</td>\n",
       "        <td>AB</td>\n",
       "        <td>Canada</td>\n",
       "        <td>T5K 2N1</td>\n",
       "        <td>+1 (780) 428-9482</td>\n",
       "        <td>+1 (780) 428-3457</td>\n",
       "        <td>andrew@chinookcorp.com</td>\n",
       "    </tr>\n",
       "    <tr>\n",
       "        <td>2</td>\n",
       "        <td>Edwards</td>\n",
       "        <td>Nancy</td>\n",
       "        <td>Sales Manager</td>\n",
       "        <td>1</td>\n",
       "        <td>1958-12-08 00:00:00</td>\n",
       "        <td>2002-05-01 00:00:00</td>\n",
       "        <td>825 8 Ave SW</td>\n",
       "        <td>Calgary</td>\n",
       "        <td>AB</td>\n",
       "        <td>Canada</td>\n",
       "        <td>T2P 2T3</td>\n",
       "        <td>+1 (403) 262-3443</td>\n",
       "        <td>+1 (403) 262-3322</td>\n",
       "        <td>nancy@chinookcorp.com</td>\n",
       "    </tr>\n",
       "    <tr>\n",
       "        <td>3</td>\n",
       "        <td>Peacock</td>\n",
       "        <td>Jane</td>\n",
       "        <td>Sales Support Agent</td>\n",
       "        <td>2</td>\n",
       "        <td>1973-08-29 00:00:00</td>\n",
       "        <td>2002-04-01 00:00:00</td>\n",
       "        <td>1111 6 Ave SW</td>\n",
       "        <td>Calgary</td>\n",
       "        <td>AB</td>\n",
       "        <td>Canada</td>\n",
       "        <td>T2P 5M5</td>\n",
       "        <td>+1 (403) 262-3443</td>\n",
       "        <td>+1 (403) 262-6712</td>\n",
       "        <td>jane@chinookcorp.com</td>\n",
       "    </tr>\n",
       "</table>"
      ],
      "text/plain": [
       "[(1, 'Adams', 'Andrew', 'General Manager', None, '1962-02-18 00:00:00', '2002-08-14 00:00:00', '11120 Jasper Ave NW', 'Edmonton', 'AB', 'Canada', 'T5K 2N1', '+1 (780) 428-9482', '+1 (780) 428-3457', 'andrew@chinookcorp.com'),\n",
       " (2, 'Edwards', 'Nancy', 'Sales Manager', 1, '1958-12-08 00:00:00', '2002-05-01 00:00:00', '825 8 Ave SW', 'Calgary', 'AB', 'Canada', 'T2P 2T3', '+1 (403) 262-3443', '+1 (403) 262-3322', 'nancy@chinookcorp.com'),\n",
       " (3, 'Peacock', 'Jane', 'Sales Support Agent', 2, '1973-08-29 00:00:00', '2002-04-01 00:00:00', '1111 6 Ave SW', 'Calgary', 'AB', 'Canada', 'T2P 5M5', '+1 (403) 262-3443', '+1 (403) 262-6712', 'jane@chinookcorp.com')]"
      ]
     },
     "execution_count": 6,
     "metadata": {},
     "output_type": "execute_result"
    }
   ],
   "source": [
    "%sql SELECT * FROM employees LIMIT 3"
   ]
  },
  {
   "cell_type": "markdown",
   "metadata": {},
   "source": [
    "<br><br>\n",
    "\n",
    "### Multiline Query\n",
    "If you have **Long and/or Complex Query**, consider using multiline to increase readability of the query. <br>\n",
    "By using _double percentage_ **`%%sql`**, you can use the whole cell into the query command."
   ]
  },
  {
   "cell_type": "code",
   "execution_count": 7,
   "metadata": {},
   "outputs": [
    {
     "name": "stdout",
     "output_type": "stream",
     "text": [
      " * sqlite:///database/chinook.db\n",
      "Done.\n"
     ]
    },
    {
     "data": {
      "text/html": [
       "<table>\n",
       "    <tr>\n",
       "        <th>Genre Name</th>\n",
       "        <th>Artist Name</th>\n",
       "        <th>Album Title</th>\n",
       "        <th>Track Name</th>\n",
       "    </tr>\n",
       "    <tr>\n",
       "        <td>Rock</td>\n",
       "        <td>AC/DC</td>\n",
       "        <td>For Those About To Rock We Salute You</td>\n",
       "        <td>For Those About To Rock (We Salute You)</td>\n",
       "    </tr>\n",
       "    <tr>\n",
       "        <td>Rock</td>\n",
       "        <td>AC/DC</td>\n",
       "        <td>For Those About To Rock We Salute You</td>\n",
       "        <td>Put The Finger On You</td>\n",
       "    </tr>\n",
       "    <tr>\n",
       "        <td>Rock</td>\n",
       "        <td>AC/DC</td>\n",
       "        <td>For Those About To Rock We Salute You</td>\n",
       "        <td>Let&#x27;s Get It Up</td>\n",
       "    </tr>\n",
       "    <tr>\n",
       "        <td>Rock</td>\n",
       "        <td>AC/DC</td>\n",
       "        <td>For Those About To Rock We Salute You</td>\n",
       "        <td>Inject The Venom</td>\n",
       "    </tr>\n",
       "    <tr>\n",
       "        <td>Rock</td>\n",
       "        <td>AC/DC</td>\n",
       "        <td>For Those About To Rock We Salute You</td>\n",
       "        <td>Snowballed</td>\n",
       "    </tr>\n",
       "</table>"
      ],
      "text/plain": [
       "[('Rock', 'AC/DC', 'For Those About To Rock We Salute You', 'For Those About To Rock (We Salute You)'),\n",
       " ('Rock', 'AC/DC', 'For Those About To Rock We Salute You', 'Put The Finger On You'),\n",
       " ('Rock', 'AC/DC', 'For Those About To Rock We Salute You', \"Let's Get It Up\"),\n",
       " ('Rock', 'AC/DC', 'For Those About To Rock We Salute You', 'Inject The Venom'),\n",
       " ('Rock', 'AC/DC', 'For Those About To Rock We Salute You', 'Snowballed')]"
      ]
     },
     "execution_count": 7,
     "metadata": {},
     "output_type": "execute_result"
    }
   ],
   "source": [
    "%%sql\n",
    "\n",
    "SELECT genres.Name AS 'Genre Name', artists.Name AS 'Artist Name',\n",
    "albums.Title AS 'Album Title', tracks.Name AS 'Track Name'\n",
    "FROM tracks\n",
    "INNER JOIN genres ON genres.GenreId = tracks.GenreId\n",
    "INNER JOIN albums ON albums.AlbumId = tracks.AlbumId\n",
    "INNER JOIN artists ON albums.ArtistId = artists.ArtistId\n",
    "LIMIT 5"
   ]
  },
  {
   "cell_type": "code",
   "execution_count": null,
   "metadata": {},
   "outputs": [],
   "source": []
  }
 ],
 "metadata": {
  "kernelspec": {
   "display_name": "Python 3",
   "language": "python",
   "name": "python3"
  },
  "language_info": {
   "codemirror_mode": {
    "name": "ipython",
    "version": 3
   },
   "file_extension": ".py",
   "mimetype": "text/x-python",
   "name": "python",
   "nbconvert_exporter": "python",
   "pygments_lexer": "ipython3",
   "version": "3.7.4"
  }
 },
 "nbformat": 4,
 "nbformat_minor": 4
}
